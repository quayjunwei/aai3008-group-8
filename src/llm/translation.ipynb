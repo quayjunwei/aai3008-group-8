{
 "cells": [
  {
   "cell_type": "markdown",
   "metadata": {},
   "source": [
    "# LLM Portion: Machine Translation with NLLB-200"
   ]
  },
  {
   "cell_type": "markdown",
   "metadata": {},
   "source": [
    "# **Please create a new environment first before installing libraries and dependencies**"
   ]
  },
  {
   "cell_type": "markdown",
   "metadata": {},
   "source": [
    "# Install Libraries and Dependencies"
   ]
  },
  {
   "cell_type": "code",
   "execution_count": 12,
   "metadata": {},
   "outputs": [
    {
     "name": "stdout",
     "output_type": "stream",
     "text": [
      "Requirement already satisfied: torch in c:\\users\\sherw\\onedrive\\desktop\\school\\llm\\llm-project\\venv\\lib\\site-packages (2.5.1+cu121)\n",
      "Requirement already satisfied: transformers in c:\\users\\sherw\\onedrive\\desktop\\school\\llm\\llm-project\\venv\\lib\\site-packages (4.49.0)\n",
      "Requirement already satisfied: deep-translator in c:\\users\\sherw\\onedrive\\desktop\\school\\llm\\llm-project\\venv\\lib\\site-packages (1.11.4)\n",
      "Requirement already satisfied: filelock in c:\\users\\sherw\\onedrive\\desktop\\school\\llm\\llm-project\\venv\\lib\\site-packages (from torch) (3.17.0)\n",
      "Requirement already satisfied: typing-extensions>=4.8.0 in c:\\users\\sherw\\onedrive\\desktop\\school\\llm\\llm-project\\venv\\lib\\site-packages (from torch) (4.12.2)\n",
      "Requirement already satisfied: networkx in c:\\users\\sherw\\onedrive\\desktop\\school\\llm\\llm-project\\venv\\lib\\site-packages (from torch) (3.4.2)\n",
      "Requirement already satisfied: jinja2 in c:\\users\\sherw\\onedrive\\desktop\\school\\llm\\llm-project\\venv\\lib\\site-packages (from torch) (3.1.6)\n",
      "Requirement already satisfied: fsspec in c:\\users\\sherw\\onedrive\\desktop\\school\\llm\\llm-project\\venv\\lib\\site-packages (from torch) (2025.3.0)\n",
      "Requirement already satisfied: setuptools in c:\\users\\sherw\\onedrive\\desktop\\school\\llm\\llm-project\\venv\\lib\\site-packages (from torch) (76.0.0)\n",
      "Requirement already satisfied: sympy==1.13.1 in c:\\users\\sherw\\onedrive\\desktop\\school\\llm\\llm-project\\venv\\lib\\site-packages (from torch) (1.13.1)\n",
      "Requirement already satisfied: mpmath<1.4,>=1.1.0 in c:\\users\\sherw\\onedrive\\desktop\\school\\llm\\llm-project\\venv\\lib\\site-packages (from sympy==1.13.1->torch) (1.3.0)\n",
      "Requirement already satisfied: huggingface-hub<1.0,>=0.26.0 in c:\\users\\sherw\\onedrive\\desktop\\school\\llm\\llm-project\\venv\\lib\\site-packages (from transformers) (0.29.3)\n",
      "Requirement already satisfied: numpy>=1.17 in c:\\users\\sherw\\onedrive\\desktop\\school\\llm\\llm-project\\venv\\lib\\site-packages (from transformers) (1.26.4)\n",
      "Requirement already satisfied: packaging>=20.0 in c:\\users\\sherw\\onedrive\\desktop\\school\\llm\\llm-project\\venv\\lib\\site-packages (from transformers) (24.2)\n",
      "Requirement already satisfied: pyyaml>=5.1 in c:\\users\\sherw\\onedrive\\desktop\\school\\llm\\llm-project\\venv\\lib\\site-packages (from transformers) (6.0.2)\n",
      "Requirement already satisfied: regex!=2019.12.17 in c:\\users\\sherw\\onedrive\\desktop\\school\\llm\\llm-project\\venv\\lib\\site-packages (from transformers) (2024.11.6)\n",
      "Requirement already satisfied: requests in c:\\users\\sherw\\onedrive\\desktop\\school\\llm\\llm-project\\venv\\lib\\site-packages (from transformers) (2.32.3)\n",
      "Requirement already satisfied: tokenizers<0.22,>=0.21 in c:\\users\\sherw\\onedrive\\desktop\\school\\llm\\llm-project\\venv\\lib\\site-packages (from transformers) (0.21.0)\n",
      "Requirement already satisfied: safetensors>=0.4.1 in c:\\users\\sherw\\onedrive\\desktop\\school\\llm\\llm-project\\venv\\lib\\site-packages (from transformers) (0.5.3)\n",
      "Requirement already satisfied: tqdm>=4.27 in c:\\users\\sherw\\onedrive\\desktop\\school\\llm\\llm-project\\venv\\lib\\site-packages (from transformers) (4.67.1)\n",
      "Requirement already satisfied: beautifulsoup4<5.0.0,>=4.9.1 in c:\\users\\sherw\\onedrive\\desktop\\school\\llm\\llm-project\\venv\\lib\\site-packages (from deep-translator) (4.13.3)\n",
      "Requirement already satisfied: soupsieve>1.2 in c:\\users\\sherw\\onedrive\\desktop\\school\\llm\\llm-project\\venv\\lib\\site-packages (from beautifulsoup4<5.0.0,>=4.9.1->deep-translator) (2.6)\n",
      "Requirement already satisfied: charset-normalizer<4,>=2 in c:\\users\\sherw\\onedrive\\desktop\\school\\llm\\llm-project\\venv\\lib\\site-packages (from requests->transformers) (3.4.1)\n",
      "Requirement already satisfied: idna<4,>=2.5 in c:\\users\\sherw\\onedrive\\desktop\\school\\llm\\llm-project\\venv\\lib\\site-packages (from requests->transformers) (3.10)\n",
      "Requirement already satisfied: urllib3<3,>=1.21.1 in c:\\users\\sherw\\onedrive\\desktop\\school\\llm\\llm-project\\venv\\lib\\site-packages (from requests->transformers) (2.3.0)\n",
      "Requirement already satisfied: certifi>=2017.4.17 in c:\\users\\sherw\\onedrive\\desktop\\school\\llm\\llm-project\\venv\\lib\\site-packages (from requests->transformers) (2025.1.31)\n",
      "Requirement already satisfied: colorama in c:\\users\\sherw\\onedrive\\desktop\\school\\llm\\llm-project\\venv\\lib\\site-packages (from tqdm>=4.27->transformers) (0.4.6)\n",
      "Requirement already satisfied: MarkupSafe>=2.0 in c:\\users\\sherw\\onedrive\\desktop\\school\\llm\\llm-project\\venv\\lib\\site-packages (from jinja2->torch) (2.1.5)\n",
      "Note: you may need to restart the kernel to use updated packages.\n"
     ]
    },
    {
     "name": "stderr",
     "output_type": "stream",
     "text": [
      "\n",
      "[notice] A new release of pip is available: 24.3.1 -> 25.0.1\n",
      "[notice] To update, run: python.exe -m pip install --upgrade pip\n"
     ]
    }
   ],
   "source": [
    "%pip install torch transformers deep-translator"
   ]
  },
  {
   "cell_type": "markdown",
   "metadata": {},
   "source": [
    "## Import Libraries"
   ]
  },
  {
   "cell_type": "code",
   "execution_count": 1,
   "metadata": {},
   "outputs": [],
   "source": [
    "import torch\n",
    "from transformers import AutoTokenizer, AutoModelForSeq2SeqLM\n",
    "from deep_translator import GoogleTranslator\n",
    "import re"
   ]
  },
  {
   "cell_type": "markdown",
   "metadata": {},
   "source": [
    "## Load NLLB Model"
   ]
  },
  {
   "cell_type": "code",
   "execution_count": 2,
   "metadata": {},
   "outputs": [
    {
     "name": "stdout",
     "output_type": "stream",
     "text": [
      "NLLB-200 model loaded and moved to GPU.\n"
     ]
    }
   ],
   "source": [
    "# Load NLLB-200 for MT\n",
    "mt_model_name = \"facebook/nllb-200-distilled-600M\"\n",
    "mt_tokenizer = AutoTokenizer.from_pretrained(mt_model_name, src_lang=\"zho_Hans\")\n",
    "mt_model = AutoModelForSeq2SeqLM.from_pretrained(mt_model_name).to(\"cuda\")\n",
    "print(\"NLLB-200 model loaded and moved to GPU.\")"
   ]
  },
  {
   "cell_type": "markdown",
   "metadata": {},
   "source": [
    "## Define Pipeline Functions"
   ]
  },
  {
   "cell_type": "code",
   "execution_count": 9,
   "metadata": {},
   "outputs": [],
   "source": [
    "def clean_text(text):\n",
    "    \"\"\"Clean the input text by removing excessive repetitions and normalizing spaces.\"\"\"\n",
    "    text = re.sub(r'(\\\\b\\\\w+\\\\b)(?:\\\\s+\\\\1)+', r'\\\\1', text)  # Remove repeated words\n",
    "    text = re.sub(r'\\\\s+', ' ', text).strip()  # Normalize spaces\n",
    "    return text\n",
    "\n",
    "def translate_text(text, target_lang=\"eng_Latn\", use_nllb=True):\n",
    "    \"\"\"Translate text using either NLLB-200 or GoogleTranslator.\"\"\"\n",
    "    text = clean_text(text)\n",
    "    print(f\"Cleaned Input: {text}\")\n",
    "    \n",
    "    if use_nllb:\n",
    "        try:\n",
    "            print(f\"Input text: {text}\")\n",
    "            \n",
    "            # Prepend target language to input (NLLB convention)\n",
    "            input_text = f\"[{target_lang}] {text}\"\n",
    "            inputs = mt_tokenizer(input_text, return_tensors=\"pt\", padding=True, truncation=True, max_length=512).to(\"cuda\")\n",
    "            print(f\"Tokenized input: {inputs}\")\n",
    "            \n",
    "            # Generate translation\n",
    "            translated_ids = mt_model.generate(\n",
    "                **inputs,\n",
    "                max_length=512,\n",
    "                num_beams=5,\n",
    "                no_repeat_ngram_size=2\n",
    "            )\n",
    "            \n",
    "            # Decode translation\n",
    "            translated_text = mt_tokenizer.decode(translated_ids[0], skip_special_tokens=True)\n",
    "            print(f\"NLLB Translated text: {translated_text}\")\n",
    "            return translated_text\n",
    "        except Exception as e:\n",
    "            print(f\"NLLB Translation Error: {str(e)}\")\n",
    "            return f\"NLLB Translation Error: {str(e)}\"\n",
    "    else:\n",
    "        try:\n",
    "            translated_text = GoogleTranslator(source=\"zh-CN\", target=\"en\").translate(text)\n",
    "            print(f\"Google Translated text: {translated_text}\")\n",
    "            return translated_text\n",
    "        except Exception as e:\n",
    "            print(f\"Google Translation Error: {str(e)}\")\n",
    "            return f\"Google Translation Error: {str(e)}\""
   ]
  },
  {
   "cell_type": "markdown",
   "metadata": {},
   "source": [
    "## Test the Translation Pipeline with Sample 1"
   ]
  },
  {
   "cell_type": "code",
   "execution_count": 10,
   "metadata": {},
   "outputs": [
    {
     "name": "stdout",
     "output_type": "stream",
     "text": [
      "\n",
      "Testing Sample 1:\n",
      "Original: 你好泡泡你好你好说你好好的好的说你好跟着好的做实验So easy自然科学重量实验欢迎来到实验 先准备两桶水记得把水装到一样的高度哦再拿一个苹果一个硬币一个硬币 跟着我放放看哪边的水看起来比较多呢用学习单记录优优独播剧场——YoYo Television Series Exclusive 把蘋果和硬幣拿出來換其他東西吧看看我的香蕉跟芭樂哪邊的水比較多 是芭乐你的实验结果如何呢用学习单记录下来 请不吝点赞 订阅 转发 打赏支持明镜与点点栏目\n",
      "Cleaned Input: 你好泡泡你好你好说你好好的好的说你好跟着好的做实验So easy自然科学重量实验欢迎来到实验 先准备两桶水记得把水装到一样的高度哦再拿一个苹果一个硬币一个硬币 跟着我放放看哪边的水看起来比较多呢用学习单记录优优独播剧场——YoYo Television Series Exclusive 把蘋果和硬幣拿出來換其他東西吧看看我的香蕉跟芭樂哪邊的水比較多 是芭乐你的实验结果如何呢用学习单记录下来 请不吝点赞 订阅 转发 打赏支持明镜与点点栏目\n",
      "Input text: 你好泡泡你好你好说你好好的好的说你好跟着好的做实验So easy自然科学重量实验欢迎来到实验 先准备两桶水记得把水装到一样的高度哦再拿一个苹果一个硬币一个硬币 跟着我放放看哪边的水看起来比较多呢用学习单记录优优独播剧场——YoYo Television Series Exclusive 把蘋果和硬幣拿出來換其他東西吧看看我的香蕉跟芭樂哪邊的水比較多 是芭乐你的实验结果如何呢用学习单记录下来 请不吝点赞 订阅 转发 打赏支持明镜与点点栏目\n",
      "Tokenized input: {'input_ids': tensor([[256200,    709, 256047,  10109,  12695, 249725, 254339, 254339, 249188,\n",
      "         249725, 249188, 249725, 250102, 249188, 249725,  96339,  96339, 250102,\n",
      "         249188, 249725, 252229, 250347,  96339, 250566, 250842, 252507,  30743,\n",
      "          42201,  25575,  22192, 249668, 250302, 250842, 252507,  89642, 232036,\n",
      "         250842, 252507,  45410, 251849, 252075, 251444, 254891, 250094, 251653,\n",
      "         249652, 250867, 250094, 251079, 249582,  88193, 248506, 109972,      3,\n",
      "         250278, 251900,  14257,      3, 249673,  14257, 252902, 254126,  14257,\n",
      "         252902, 254126, 214333, 250347, 248956, 250366, 250366, 250746, 252523,\n",
      "         252347, 248506, 250094, 250746, 136631, 250323, 253139, 249352, 250118,\n",
      "         249236, 197281, 252255, 123911, 252477, 252477, 250753, 252374, 253393,\n",
      "         251932,      3,  23699,  23699, 210327, 116511,   6136,  13094,  50287,\n",
      "         197734,      3, 249673, 249249, 252902, 253637, 251900, 127944, 251174,\n",
      "          20707, 250898, 250419, 252113, 250746, 250746,  26184, 252091,      3,\n",
      "         252229, 255691, 252316, 252523, 251828, 248506, 250094,  46032, 249352,\n",
      "          43786, 255691, 251903,  40992, 250842, 252507, 142322,  66314, 250118,\n",
      "         249236, 197281, 252255, 123911, 249593, 249412,  86931, 249215, 255131,\n",
      "         250097, 252437, 248059, 253059, 254606, 248059, 252233, 250240, 248059,\n",
      "         250817, 252676,  27023, 249577, 255009, 249796, 250097, 250097,      3,\n",
      "         249549,      2]], device='cuda:0'), 'attention_mask': tensor([[1, 1, 1, 1, 1, 1, 1, 1, 1, 1, 1, 1, 1, 1, 1, 1, 1, 1, 1, 1, 1, 1, 1, 1,\n",
      "         1, 1, 1, 1, 1, 1, 1, 1, 1, 1, 1, 1, 1, 1, 1, 1, 1, 1, 1, 1, 1, 1, 1, 1,\n",
      "         1, 1, 1, 1, 1, 1, 1, 1, 1, 1, 1, 1, 1, 1, 1, 1, 1, 1, 1, 1, 1, 1, 1, 1,\n",
      "         1, 1, 1, 1, 1, 1, 1, 1, 1, 1, 1, 1, 1, 1, 1, 1, 1, 1, 1, 1, 1, 1, 1, 1,\n",
      "         1, 1, 1, 1, 1, 1, 1, 1, 1, 1, 1, 1, 1, 1, 1, 1, 1, 1, 1, 1, 1, 1, 1, 1,\n",
      "         1, 1, 1, 1, 1, 1, 1, 1, 1, 1, 1, 1, 1, 1, 1, 1, 1, 1, 1, 1, 1, 1, 1, 1,\n",
      "         1, 1, 1, 1, 1, 1, 1, 1, 1, 1, 1, 1, 1, 1, 1, 1, 1, 1, 1, 1]],\n",
      "       device='cuda:0')}\n",
      "NLLB Translated text: So easy natural science weight experiments welcome to come to the experiment first prepare two barrels of water remember to load the water at the same height and then take an apple a coin one coin and follow me to see which side water looks better this is a learning single record\n",
      "\n",
      "NLLB Final Translation: So easy natural science weight experiments welcome to come to the experiment first prepare two barrels of water remember to load the water at the same height and then take an apple a coin one coin and follow me to see which side water looks better this is a learning single record\n",
      "Cleaned Input: 你好泡泡你好你好说你好好的好的说你好跟着好的做实验So easy自然科学重量实验欢迎来到实验 先准备两桶水记得把水装到一样的高度哦再拿一个苹果一个硬币一个硬币 跟着我放放看哪边的水看起来比较多呢用学习单记录优优独播剧场——YoYo Television Series Exclusive 把蘋果和硬幣拿出來換其他東西吧看看我的香蕉跟芭樂哪邊的水比較多 是芭乐你的实验结果如何呢用学习单记录下来 请不吝点赞 订阅 转发 打赏支持明镜与点点栏目\n",
      "Google Translated text: Hello Bubble Hello Hello You Hello You Hello You Say You Say You Say You Say You Say You Say You Say You Follow Good to do experiments So easy Natural Science Weight Experiment Welcome to the experiment. Prepare two buckets of water first, remember to put the water to the same height, then take an apple, a coin and a coin. Follow me to see which side of the water looks more? Use a study sheet to record the Youyou exclusive theater - YoYo Television Series Exclusive Take out the apple and hard coins and change other things. Let’s see where there is more water in my banana and guava? What is the result of your experiment? Use a study sheet to record it. Please like it. Subscribe and forward Rewards support the Mingjing and Diandian columns.\n",
      "\n",
      "Google Final Translation: Hello Bubble Hello Hello You Hello You Hello You Say You Say You Say You Say You Say You Say You Say You Follow Good to do experiments So easy Natural Science Weight Experiment Welcome to the experiment. Prepare two buckets of water first, remember to put the water to the same height, then take an apple, a coin and a coin. Follow me to see which side of the water looks more? Use a study sheet to record the Youyou exclusive theater - YoYo Television Series Exclusive Take out the apple and hard coins and change other things. Let’s see where there is more water in my banana and guava? What is the result of your experiment? Use a study sheet to record it. Please like it. Subscribe and forward Rewards support the Mingjing and Diandian columns.\n"
     ]
    }
   ],
   "source": [
    "# Test with the sample transcribed text\n",
    "sample_text = \"你好泡泡你好你好说你好好的好的说你好跟着好的做实验So easy自然科学重量实验欢迎来到实验 先准备两桶水记得把水装到一样的高度哦再拿一个苹果一个硬币一个硬币 跟着我放放看哪边的水看起来比较多呢用学习单记录优优独播剧场——YoYo Television Series Exclusive 把蘋果和硬幣拿出來換其他東西吧看看我的香蕉跟芭樂哪邊的水比較多 是芭乐你的实验结果如何呢用学习单记录下来 请不吝点赞 订阅 转发 打赏支持明镜与点点栏目\"\n",
    "\n",
    "print(\"\\nTesting Sample 1:\")\n",
    "print(f\"Original: {sample_text}\")\n",
    "\n",
    "# Test with NLLB\n",
    "nllb_translated = translate_text(sample_text, target_lang=\"eng_Latn\", use_nllb=True)\n",
    "print(\"\\nNLLB Final Translation:\", nllb_translated)\n",
    "\n",
    "# Test with Google Translate for comparison\n",
    "google_translated = translate_text(sample_text, target_lang=\"eng_Latn\", use_nllb=False)\n",
    "print(\"\\nGoogle Final Translation:\", google_translated)"
   ]
  },
  {
   "cell_type": "markdown",
   "metadata": {},
   "source": [
    "## Test the Translation Pipeline with Additional Samples"
   ]
  },
  {
   "cell_type": "code",
   "execution_count": 11,
   "metadata": {},
   "outputs": [
    {
     "name": "stdout",
     "output_type": "stream",
     "text": [
      "\n",
      "Testing Sample 2:\n",
      "Original: 你好！这是一个简单的测试句子。\n",
      "Cleaned Input: 你好！这是一个简单的测试句子。\n",
      "Input text: 你好！这是一个简单的测试句子。\n",
      "Tokenized input: {'input_ids': tensor([[256200,    709, 256047,  10109,  12695, 249725, 248203,  74640,  14257,\n",
      "         253502, 252255, 248506, 252484, 252409, 252314, 249316, 253935,      2]],\n",
      "       device='cuda:0'), 'attention_mask': tensor([[1, 1, 1, 1, 1, 1, 1, 1, 1, 1, 1, 1, 1, 1, 1, 1, 1, 1]],\n",
      "       device='cuda:0')}\n",
      "NLLB Translated text: [ ] Hello! This is a simple test sentence.\n",
      "\n",
      "NLLB Final Translation: [ ] Hello! This is a simple test sentence.\n",
      "Cleaned Input: 你好！这是一个简单的测试句子。\n",
      "Google Translated text: Hello! This is a simple test sentence.\n",
      "\n",
      "Google Final Translation: Hello! This is a simple test sentence.\n",
      "\n",
      "Testing Sample 3:\n",
      "Original: 今天的天气很好，我们去公园散步吧。\n",
      "Cleaned Input: 今天的天气很好，我们去公园散步吧。\n",
      "Input text: 今天的天气很好，我们去公园散步吧。\n",
      "Tokenized input: {'input_ids': tensor([[256200,    709, 256047,  10109,   7213, 249910, 248506, 249910, 252663,\n",
      "         251563, 249725, 248079,  14994, 249884, 249846, 252387, 251539, 251806,\n",
      "         252113, 253935,      2]], device='cuda:0'), 'attention_mask': tensor([[1, 1, 1, 1, 1, 1, 1, 1, 1, 1, 1, 1, 1, 1, 1, 1, 1, 1, 1, 1, 1]],\n",
      "       device='cuda:0')}\n",
      "NLLB Translated text: [ ] The weather is good today, let's go for a walk in the park.\n",
      "\n",
      "NLLB Final Translation: [ ] The weather is good today, let's go for a walk in the park.\n",
      "Cleaned Input: 今天的天气很好，我们去公园散步吧。\n",
      "Google Translated text: The weather is very good today, let's take a walk in the park.\n",
      "\n",
      "Google Final Translation: The weather is very good today, let's take a walk in the park.\n",
      "\n",
      "Testing Sample 4:\n",
      "Original: 科学实验很有趣，我们来试试看吧！So interesting!\n",
      "Cleaned Input: 科学实验很有趣，我们来试试看吧！So interesting!\n",
      "Input text: 科学实验很有趣，我们来试试看吧！So interesting!\n",
      "Tokenized input: {'input_ids': tensor([[256200,    709, 256047,  10109, 127056, 250842, 252507, 251563, 249113,\n",
      "         252579, 248079,  14994, 249412, 252409, 252409, 250746, 252113, 248203,\n",
      "          30743, 113818, 248203,      2]], device='cuda:0'), 'attention_mask': tensor([[1, 1, 1, 1, 1, 1, 1, 1, 1, 1, 1, 1, 1, 1, 1, 1, 1, 1, 1, 1, 1, 1]],\n",
      "       device='cuda:0')}\n",
      "NLLB Translated text: [ ] Scientific experiments are interesting, let's try it! So interesting!\n",
      "\n",
      "NLLB Final Translation: [ ] Scientific experiments are interesting, let's try it! So interesting!\n",
      "Cleaned Input: 科学实验很有趣，我们来试试看吧！So interesting!\n",
      "Google Translated text: The scientific experiment is very interesting, let’s try it! So interesting!\n",
      "\n",
      "Google Final Translation: The scientific experiment is very interesting, let’s try it! So interesting!\n"
     ]
    }
   ],
   "source": [
    "# Additional test samples for robustness\n",
    "test_samples = [\n",
    "    \"你好！这是一个简单的测试句子。\",\n",
    "    \"今天的天气很好，我们去公园散步吧。\",\n",
    "    \"科学实验很有趣，我们来试试看吧！So interesting!\"\n",
    "]\n",
    "\n",
    "for i, sample in enumerate(test_samples, 2):\n",
    "    print(f\"\\nTesting Sample {i}:\")\n",
    "    print(f\"Original: {sample}\")\n",
    "    \n",
    "    # Test with NLLB\n",
    "    nllb_translated = translate_text(sample, target_lang=\"eng_Latn\", use_nllb=True)\n",
    "    print(\"\\nNLLB Final Translation:\", nllb_translated)\n",
    "    \n",
    "    # Test with Google Translate for comparison\n",
    "    google_translated = translate_text(sample, target_lang=\"eng_Latn\", use_nllb=False)\n",
    "    print(\"\\nGoogle Final Translation:\", google_translated)"
   ]
  }
 ],
 "metadata": {
  "kernelspec": {
   "display_name": "venv",
   "language": "python",
   "name": "python3"
  },
  "language_info": {
   "codemirror_mode": {
    "name": "ipython",
    "version": 3
   },
   "file_extension": ".py",
   "mimetype": "text/x-python",
   "name": "python",
   "nbconvert_exporter": "python",
   "pygments_lexer": "ipython3",
   "version": "3.12.8"
  }
 },
 "nbformat": 4,
 "nbformat_minor": 2
}
